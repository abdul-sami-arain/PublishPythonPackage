{
 "cells": [
  {
   "cell_type": "markdown",
   "id": "75923d2c",
   "metadata": {},
   "source": [
    "## Import Package from PyPl\n"
   ]
  },
  {
   "cell_type": "code",
   "execution_count": 1,
   "id": "bd54470d",
   "metadata": {},
   "outputs": [
    {
     "data": {
      "text/plain": [
       "'The association between two arrays is 0.10206207261596574'"
      ]
     },
     "execution_count": 1,
     "metadata": {},
     "output_type": "execute_result"
    }
   ],
   "source": [
    "import StatisticVibes.correlation as cor \n",
    "# module name is StatisticVibes\n",
    "# file name is correlation\n",
    "b1 = cor.Association([1,2,3,4,5,6,7],[3,2,4,6,3,5,2])\n",
    "b1.Correlation()\n"
   ]
  },
  {
   "cell_type": "code",
   "execution_count": null,
   "id": "9ee49eee",
   "metadata": {},
   "outputs": [],
   "source": []
  }
 ],
 "metadata": {
  "kernelspec": {
   "display_name": "Python 3 (ipykernel)",
   "language": "python",
   "name": "python3"
  },
  "language_info": {
   "codemirror_mode": {
    "name": "ipython",
    "version": 3
   },
   "file_extension": ".py",
   "mimetype": "text/x-python",
   "name": "python",
   "nbconvert_exporter": "python",
   "pygments_lexer": "ipython3",
   "version": "3.9.12"
  }
 },
 "nbformat": 4,
 "nbformat_minor": 5
}
